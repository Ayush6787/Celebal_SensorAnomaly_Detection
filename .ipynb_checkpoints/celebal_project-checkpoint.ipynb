{
 "cells": [
  {
   "cell_type": "markdown",
   "id": "8257ba72-bc0f-48a8-bb13-1c410b135c9f",
   "metadata": {},
   "source": [
    "# The problem is to predict anomaly based on the readings captured by sensors.\r",
    "+ Data is captured from various sensors from a energy manufacturing plant on specific time intervals. \n",
    "The problem is to predict anomaly based on the readings captured by sensors\n",
    " or 1) }s."
   ]
  },
  {
   "cell_type": "markdown",
   "id": "d69f71f4-893f-42c4-85a9-dbb4f804a9c1",
   "metadata": {},
   "source": [
    "\n",
    "# Columns : {'Date': datetime64[ns]\n",
    "\n",
    "+ 'X1' : reading from sensor one.\n",
    "+ 'X2' : reading from sensor two.\n",
    "+ 'X3' : reading from sensor three.\n",
    "+ 'X4' : reading from sensor four.\n",
    "+ 'X5' : reading from sensor five.\n",
    "+ 'target' : Anomaly(0 or 1) }."
   ]
  },
  {
   "cell_type": "code",
   "execution_count": 3,
   "id": "3ce93979-5410-41b0-8e14-0b21570df2c7",
   "metadata": {},
   "outputs": [],
   "source": [
    "# importing necessary libraries"
   ]
  },
  {
   "cell_type": "code",
   "execution_count": 4,
   "id": "f97d819e-503d-4271-bded-f27285529ab0",
   "metadata": {},
   "outputs": [],
   "source": [
    "import pandas as pd \n",
    "import numpy as np \n",
    "import matplotlib.pyplot as plt\n",
    "import seaborn as sns"
   ]
  },
  {
   "cell_type": "code",
   "execution_count": 5,
   "id": "49d86dae-ec3d-4452-9e1f-69064f0ac9d2",
   "metadata": {},
   "outputs": [],
   "source": [
    "df = pd.read_parquet(\"train.parquet\")"
   ]
  },
  {
   "cell_type": "code",
   "execution_count": 6,
   "id": "a3926bfc-5e35-43fa-87b9-1cc4df909c36",
   "metadata": {},
   "outputs": [
    {
     "data": {
      "text/html": [
       "<div>\n",
       "<style scoped>\n",
       "    .dataframe tbody tr th:only-of-type {\n",
       "        vertical-align: middle;\n",
       "    }\n",
       "\n",
       "    .dataframe tbody tr th {\n",
       "        vertical-align: top;\n",
       "    }\n",
       "\n",
       "    .dataframe thead th {\n",
       "        text-align: right;\n",
       "    }\n",
       "</style>\n",
       "<table border=\"1\" class=\"dataframe\">\n",
       "  <thead>\n",
       "    <tr style=\"text-align: right;\">\n",
       "      <th></th>\n",
       "      <th>Date</th>\n",
       "      <th>X1</th>\n",
       "      <th>X2</th>\n",
       "      <th>X3</th>\n",
       "      <th>X4</th>\n",
       "      <th>X5</th>\n",
       "      <th>target</th>\n",
       "    </tr>\n",
       "  </thead>\n",
       "  <tbody>\n",
       "    <tr>\n",
       "      <th>0</th>\n",
       "      <td>2020-12-16</td>\n",
       "      <td>1.518921</td>\n",
       "      <td>5.463154</td>\n",
       "      <td>1.0</td>\n",
       "      <td>2.718282</td>\n",
       "      <td>2.890372</td>\n",
       "      <td>0</td>\n",
       "    </tr>\n",
       "    <tr>\n",
       "      <th>1</th>\n",
       "      <td>2020-12-16</td>\n",
       "      <td>1.546509</td>\n",
       "      <td>5.458010</td>\n",
       "      <td>1.0</td>\n",
       "      <td>2.718282</td>\n",
       "      <td>2.833213</td>\n",
       "      <td>1</td>\n",
       "    </tr>\n",
       "    <tr>\n",
       "      <th>2</th>\n",
       "      <td>2020-12-16</td>\n",
       "      <td>1.645427</td>\n",
       "      <td>5.456560</td>\n",
       "      <td>1.0</td>\n",
       "      <td>7.389056</td>\n",
       "      <td>2.890372</td>\n",
       "      <td>1</td>\n",
       "    </tr>\n",
       "    <tr>\n",
       "      <th>3</th>\n",
       "      <td>2020-12-16</td>\n",
       "      <td>1.652022</td>\n",
       "      <td>5.458479</td>\n",
       "      <td>1.0</td>\n",
       "      <td>2.718282</td>\n",
       "      <td>2.890372</td>\n",
       "      <td>1</td>\n",
       "    </tr>\n",
       "    <tr>\n",
       "      <th>4</th>\n",
       "      <td>2020-12-16</td>\n",
       "      <td>1.695538</td>\n",
       "      <td>5.466709</td>\n",
       "      <td>1.0</td>\n",
       "      <td>2.718282</td>\n",
       "      <td>2.890372</td>\n",
       "      <td>0</td>\n",
       "    </tr>\n",
       "    <tr>\n",
       "      <th>...</th>\n",
       "      <td>...</td>\n",
       "      <td>...</td>\n",
       "      <td>...</td>\n",
       "      <td>...</td>\n",
       "      <td>...</td>\n",
       "      <td>...</td>\n",
       "      <td>...</td>\n",
       "    </tr>\n",
       "    <tr>\n",
       "      <th>1639419</th>\n",
       "      <td>2024-11-26</td>\n",
       "      <td>1.000000</td>\n",
       "      <td>5.482346</td>\n",
       "      <td>1.0</td>\n",
       "      <td>1.000000</td>\n",
       "      <td>0.000000</td>\n",
       "      <td>0</td>\n",
       "    </tr>\n",
       "    <tr>\n",
       "      <th>1639420</th>\n",
       "      <td>2024-11-26</td>\n",
       "      <td>1.000000</td>\n",
       "      <td>5.486580</td>\n",
       "      <td>1.0</td>\n",
       "      <td>1.000000</td>\n",
       "      <td>0.000000</td>\n",
       "      <td>0</td>\n",
       "    </tr>\n",
       "    <tr>\n",
       "      <th>1639421</th>\n",
       "      <td>2024-11-26</td>\n",
       "      <td>1.000000</td>\n",
       "      <td>5.484797</td>\n",
       "      <td>1.0</td>\n",
       "      <td>1.000000</td>\n",
       "      <td>0.000000</td>\n",
       "      <td>0</td>\n",
       "    </tr>\n",
       "    <tr>\n",
       "      <th>1639422</th>\n",
       "      <td>2024-11-26</td>\n",
       "      <td>1.000000</td>\n",
       "      <td>5.483551</td>\n",
       "      <td>1.0</td>\n",
       "      <td>1.000000</td>\n",
       "      <td>0.000000</td>\n",
       "      <td>0</td>\n",
       "    </tr>\n",
       "    <tr>\n",
       "      <th>1639423</th>\n",
       "      <td>2024-11-26</td>\n",
       "      <td>1.000000</td>\n",
       "      <td>5.482928</td>\n",
       "      <td>1.0</td>\n",
       "      <td>1.000000</td>\n",
       "      <td>0.000000</td>\n",
       "      <td>0</td>\n",
       "    </tr>\n",
       "  </tbody>\n",
       "</table>\n",
       "<p>1639424 rows × 7 columns</p>\n",
       "</div>"
      ],
      "text/plain": [
       "              Date        X1        X2   X3        X4        X5 target\n",
       "0       2020-12-16  1.518921  5.463154  1.0  2.718282  2.890372      0\n",
       "1       2020-12-16  1.546509  5.458010  1.0  2.718282  2.833213      1\n",
       "2       2020-12-16  1.645427  5.456560  1.0  7.389056  2.890372      1\n",
       "3       2020-12-16  1.652022  5.458479  1.0  2.718282  2.890372      1\n",
       "4       2020-12-16  1.695538  5.466709  1.0  2.718282  2.890372      0\n",
       "...            ...       ...       ...  ...       ...       ...    ...\n",
       "1639419 2024-11-26  1.000000  5.482346  1.0  1.000000  0.000000      0\n",
       "1639420 2024-11-26  1.000000  5.486580  1.0  1.000000  0.000000      0\n",
       "1639421 2024-11-26  1.000000  5.484797  1.0  1.000000  0.000000      0\n",
       "1639422 2024-11-26  1.000000  5.483551  1.0  1.000000  0.000000      0\n",
       "1639423 2024-11-26  1.000000  5.482928  1.0  1.000000  0.000000      0\n",
       "\n",
       "[1639424 rows x 7 columns]"
      ]
     },
     "execution_count": 6,
     "metadata": {},
     "output_type": "execute_result"
    }
   ],
   "source": [
    "df"
   ]
  },
  {
   "cell_type": "code",
   "execution_count": 7,
   "id": "9d07f4f3-b50a-4902-bac7-89af2cf9b68e",
   "metadata": {},
   "outputs": [],
   "source": [
    "datac = df.copy()"
   ]
  },
  {
   "cell_type": "code",
   "execution_count": 8,
   "id": "6fa2d143-a161-42b2-973b-7ca5de604d06",
   "metadata": {},
   "outputs": [
    {
     "data": {
      "text/html": [
       "<div>\n",
       "<style scoped>\n",
       "    .dataframe tbody tr th:only-of-type {\n",
       "        vertical-align: middle;\n",
       "    }\n",
       "\n",
       "    .dataframe tbody tr th {\n",
       "        vertical-align: top;\n",
       "    }\n",
       "\n",
       "    .dataframe thead th {\n",
       "        text-align: right;\n",
       "    }\n",
       "</style>\n",
       "<table border=\"1\" class=\"dataframe\">\n",
       "  <thead>\n",
       "    <tr style=\"text-align: right;\">\n",
       "      <th></th>\n",
       "      <th>Date</th>\n",
       "      <th>X1</th>\n",
       "      <th>X2</th>\n",
       "      <th>X3</th>\n",
       "      <th>X4</th>\n",
       "      <th>X5</th>\n",
       "      <th>target</th>\n",
       "    </tr>\n",
       "  </thead>\n",
       "  <tbody>\n",
       "    <tr>\n",
       "      <th>0</th>\n",
       "      <td>2020-12-16</td>\n",
       "      <td>1.518921</td>\n",
       "      <td>5.463154</td>\n",
       "      <td>1.0</td>\n",
       "      <td>2.718282</td>\n",
       "      <td>2.890372</td>\n",
       "      <td>0</td>\n",
       "    </tr>\n",
       "    <tr>\n",
       "      <th>1</th>\n",
       "      <td>2020-12-16</td>\n",
       "      <td>1.546509</td>\n",
       "      <td>5.458010</td>\n",
       "      <td>1.0</td>\n",
       "      <td>2.718282</td>\n",
       "      <td>2.833213</td>\n",
       "      <td>1</td>\n",
       "    </tr>\n",
       "    <tr>\n",
       "      <th>2</th>\n",
       "      <td>2020-12-16</td>\n",
       "      <td>1.645427</td>\n",
       "      <td>5.456560</td>\n",
       "      <td>1.0</td>\n",
       "      <td>7.389056</td>\n",
       "      <td>2.890372</td>\n",
       "      <td>1</td>\n",
       "    </tr>\n",
       "    <tr>\n",
       "      <th>3</th>\n",
       "      <td>2020-12-16</td>\n",
       "      <td>1.652022</td>\n",
       "      <td>5.458479</td>\n",
       "      <td>1.0</td>\n",
       "      <td>2.718282</td>\n",
       "      <td>2.890372</td>\n",
       "      <td>1</td>\n",
       "    </tr>\n",
       "    <tr>\n",
       "      <th>4</th>\n",
       "      <td>2020-12-16</td>\n",
       "      <td>1.695538</td>\n",
       "      <td>5.466709</td>\n",
       "      <td>1.0</td>\n",
       "      <td>2.718282</td>\n",
       "      <td>2.890372</td>\n",
       "      <td>0</td>\n",
       "    </tr>\n",
       "    <tr>\n",
       "      <th>...</th>\n",
       "      <td>...</td>\n",
       "      <td>...</td>\n",
       "      <td>...</td>\n",
       "      <td>...</td>\n",
       "      <td>...</td>\n",
       "      <td>...</td>\n",
       "      <td>...</td>\n",
       "    </tr>\n",
       "    <tr>\n",
       "      <th>1639419</th>\n",
       "      <td>2024-11-26</td>\n",
       "      <td>1.000000</td>\n",
       "      <td>5.482346</td>\n",
       "      <td>1.0</td>\n",
       "      <td>1.000000</td>\n",
       "      <td>0.000000</td>\n",
       "      <td>0</td>\n",
       "    </tr>\n",
       "    <tr>\n",
       "      <th>1639420</th>\n",
       "      <td>2024-11-26</td>\n",
       "      <td>1.000000</td>\n",
       "      <td>5.486580</td>\n",
       "      <td>1.0</td>\n",
       "      <td>1.000000</td>\n",
       "      <td>0.000000</td>\n",
       "      <td>0</td>\n",
       "    </tr>\n",
       "    <tr>\n",
       "      <th>1639421</th>\n",
       "      <td>2024-11-26</td>\n",
       "      <td>1.000000</td>\n",
       "      <td>5.484797</td>\n",
       "      <td>1.0</td>\n",
       "      <td>1.000000</td>\n",
       "      <td>0.000000</td>\n",
       "      <td>0</td>\n",
       "    </tr>\n",
       "    <tr>\n",
       "      <th>1639422</th>\n",
       "      <td>2024-11-26</td>\n",
       "      <td>1.000000</td>\n",
       "      <td>5.483551</td>\n",
       "      <td>1.0</td>\n",
       "      <td>1.000000</td>\n",
       "      <td>0.000000</td>\n",
       "      <td>0</td>\n",
       "    </tr>\n",
       "    <tr>\n",
       "      <th>1639423</th>\n",
       "      <td>2024-11-26</td>\n",
       "      <td>1.000000</td>\n",
       "      <td>5.482928</td>\n",
       "      <td>1.0</td>\n",
       "      <td>1.000000</td>\n",
       "      <td>0.000000</td>\n",
       "      <td>0</td>\n",
       "    </tr>\n",
       "  </tbody>\n",
       "</table>\n",
       "<p>1639424 rows × 7 columns</p>\n",
       "</div>"
      ],
      "text/plain": [
       "              Date        X1        X2   X3        X4        X5 target\n",
       "0       2020-12-16  1.518921  5.463154  1.0  2.718282  2.890372      0\n",
       "1       2020-12-16  1.546509  5.458010  1.0  2.718282  2.833213      1\n",
       "2       2020-12-16  1.645427  5.456560  1.0  7.389056  2.890372      1\n",
       "3       2020-12-16  1.652022  5.458479  1.0  2.718282  2.890372      1\n",
       "4       2020-12-16  1.695538  5.466709  1.0  2.718282  2.890372      0\n",
       "...            ...       ...       ...  ...       ...       ...    ...\n",
       "1639419 2024-11-26  1.000000  5.482346  1.0  1.000000  0.000000      0\n",
       "1639420 2024-11-26  1.000000  5.486580  1.0  1.000000  0.000000      0\n",
       "1639421 2024-11-26  1.000000  5.484797  1.0  1.000000  0.000000      0\n",
       "1639422 2024-11-26  1.000000  5.483551  1.0  1.000000  0.000000      0\n",
       "1639423 2024-11-26  1.000000  5.482928  1.0  1.000000  0.000000      0\n",
       "\n",
       "[1639424 rows x 7 columns]"
      ]
     },
     "execution_count": 8,
     "metadata": {},
     "output_type": "execute_result"
    }
   ],
   "source": [
    "datac"
   ]
  },
  {
   "cell_type": "code",
   "execution_count": 9,
   "id": "b932ee1b-cc3f-4772-929d-736cf87c8e47",
   "metadata": {},
   "outputs": [
    {
     "data": {
      "text/plain": [
       "(1639424, 7)"
      ]
     },
     "execution_count": 9,
     "metadata": {},
     "output_type": "execute_result"
    }
   ],
   "source": [
    "df.shape"
   ]
  },
  {
   "cell_type": "code",
   "execution_count": 10,
   "id": "8cd96051-f4eb-40da-b0ba-cb467189f6d2",
   "metadata": {},
   "outputs": [
    {
     "name": "stdout",
     "output_type": "stream",
     "text": [
      "<class 'pandas.core.frame.DataFrame'>\n",
      "RangeIndex: 1639424 entries, 0 to 1639423\n",
      "Data columns (total 7 columns):\n",
      " #   Column  Non-Null Count    Dtype         \n",
      "---  ------  --------------    -----         \n",
      " 0   Date    1639424 non-null  datetime64[ns]\n",
      " 1   X1      1639424 non-null  float64       \n",
      " 2   X2      1639424 non-null  float64       \n",
      " 3   X3      1639424 non-null  float64       \n",
      " 4   X4      1639424 non-null  float64       \n",
      " 5   X5      1639424 non-null  float64       \n",
      " 6   target  1639424 non-null  object        \n",
      "dtypes: datetime64[ns](1), float64(5), object(1)\n",
      "memory usage: 87.6+ MB\n"
     ]
    }
   ],
   "source": [
    "df.info()"
   ]
  },
  {
   "cell_type": "code",
   "execution_count": 11,
   "id": "5b1c7060-466d-4f08-9ad5-7dcf43815e31",
   "metadata": {},
   "outputs": [
    {
     "data": {
      "text/html": [
       "<div>\n",
       "<style scoped>\n",
       "    .dataframe tbody tr th:only-of-type {\n",
       "        vertical-align: middle;\n",
       "    }\n",
       "\n",
       "    .dataframe tbody tr th {\n",
       "        vertical-align: top;\n",
       "    }\n",
       "\n",
       "    .dataframe thead th {\n",
       "        text-align: right;\n",
       "    }\n",
       "</style>\n",
       "<table border=\"1\" class=\"dataframe\">\n",
       "  <thead>\n",
       "    <tr style=\"text-align: right;\">\n",
       "      <th></th>\n",
       "      <th>Date</th>\n",
       "      <th>X1</th>\n",
       "      <th>X2</th>\n",
       "      <th>X3</th>\n",
       "      <th>X4</th>\n",
       "      <th>X5</th>\n",
       "    </tr>\n",
       "  </thead>\n",
       "  <tbody>\n",
       "    <tr>\n",
       "      <th>count</th>\n",
       "      <td>1639424</td>\n",
       "      <td>1.639424e+06</td>\n",
       "      <td>1.639424e+06</td>\n",
       "      <td>1.639424e+06</td>\n",
       "      <td>1.639424e+06</td>\n",
       "      <td>1.639424e+06</td>\n",
       "    </tr>\n",
       "    <tr>\n",
       "      <th>mean</th>\n",
       "      <td>2022-12-03 07:23:43.817145600</td>\n",
       "      <td>1.139258e+00</td>\n",
       "      <td>5.488189e+00</td>\n",
       "      <td>4.110388e+32</td>\n",
       "      <td>2.706323e+29</td>\n",
       "      <td>1.187219e+00</td>\n",
       "    </tr>\n",
       "    <tr>\n",
       "      <th>min</th>\n",
       "      <td>2020-12-16 00:00:00</td>\n",
       "      <td>1.000000e+00</td>\n",
       "      <td>5.412539e+00</td>\n",
       "      <td>1.000000e+00</td>\n",
       "      <td>1.000000e+00</td>\n",
       "      <td>0.000000e+00</td>\n",
       "    </tr>\n",
       "    <tr>\n",
       "      <th>25%</th>\n",
       "      <td>2021-12-10 00:00:00</td>\n",
       "      <td>1.049171e+00</td>\n",
       "      <td>5.480597e+00</td>\n",
       "      <td>1.000000e+00</td>\n",
       "      <td>1.000000e+00</td>\n",
       "      <td>0.000000e+00</td>\n",
       "    </tr>\n",
       "    <tr>\n",
       "      <th>50%</th>\n",
       "      <td>2022-11-30 00:00:00</td>\n",
       "      <td>1.105171e+00</td>\n",
       "      <td>5.488979e+00</td>\n",
       "      <td>1.000000e+00</td>\n",
       "      <td>1.000000e+00</td>\n",
       "      <td>6.931472e-01</td>\n",
       "    </tr>\n",
       "    <tr>\n",
       "      <th>75%</th>\n",
       "      <td>2023-11-23 00:00:00</td>\n",
       "      <td>1.214096e+00</td>\n",
       "      <td>5.496717e+00</td>\n",
       "      <td>1.000000e+00</td>\n",
       "      <td>2.718282e+00</td>\n",
       "      <td>2.890372e+00</td>\n",
       "    </tr>\n",
       "    <tr>\n",
       "      <th>max</th>\n",
       "      <td>2024-12-11 00:00:00</td>\n",
       "      <td>4.014850e+00</td>\n",
       "      <td>5.541852e+00</td>\n",
       "      <td>1.651636e+38</td>\n",
       "      <td>5.540622e+34</td>\n",
       "      <td>3.465736e+00</td>\n",
       "    </tr>\n",
       "    <tr>\n",
       "      <th>std</th>\n",
       "      <td>NaN</td>\n",
       "      <td>1.391992e-01</td>\n",
       "      <td>1.342811e-02</td>\n",
       "      <td>2.346156e+35</td>\n",
       "      <td>5.812988e+31</td>\n",
       "      <td>1.304814e+00</td>\n",
       "    </tr>\n",
       "  </tbody>\n",
       "</table>\n",
       "</div>"
      ],
      "text/plain": [
       "                                Date            X1            X2  \\\n",
       "count                        1639424  1.639424e+06  1.639424e+06   \n",
       "mean   2022-12-03 07:23:43.817145600  1.139258e+00  5.488189e+00   \n",
       "min              2020-12-16 00:00:00  1.000000e+00  5.412539e+00   \n",
       "25%              2021-12-10 00:00:00  1.049171e+00  5.480597e+00   \n",
       "50%              2022-11-30 00:00:00  1.105171e+00  5.488979e+00   \n",
       "75%              2023-11-23 00:00:00  1.214096e+00  5.496717e+00   \n",
       "max              2024-12-11 00:00:00  4.014850e+00  5.541852e+00   \n",
       "std                              NaN  1.391992e-01  1.342811e-02   \n",
       "\n",
       "                 X3            X4            X5  \n",
       "count  1.639424e+06  1.639424e+06  1.639424e+06  \n",
       "mean   4.110388e+32  2.706323e+29  1.187219e+00  \n",
       "min    1.000000e+00  1.000000e+00  0.000000e+00  \n",
       "25%    1.000000e+00  1.000000e+00  0.000000e+00  \n",
       "50%    1.000000e+00  1.000000e+00  6.931472e-01  \n",
       "75%    1.000000e+00  2.718282e+00  2.890372e+00  \n",
       "max    1.651636e+38  5.540622e+34  3.465736e+00  \n",
       "std    2.346156e+35  5.812988e+31  1.304814e+00  "
      ]
     },
     "execution_count": 11,
     "metadata": {},
     "output_type": "execute_result"
    }
   ],
   "source": [
    "df.describe()"
   ]
  },
  {
   "cell_type": "code",
   "execution_count": 12,
   "id": "7ad654a7-6334-48c7-be86-0aa6ca2fcab6",
   "metadata": {},
   "outputs": [
    {
     "data": {
      "text/plain": [
       "Date      0\n",
       "X1        0\n",
       "X2        0\n",
       "X3        0\n",
       "X4        0\n",
       "X5        0\n",
       "target    0\n",
       "dtype: int64"
      ]
     },
     "execution_count": 12,
     "metadata": {},
     "output_type": "execute_result"
    }
   ],
   "source": [
    "df.isnull().sum()"
   ]
  },
  {
   "cell_type": "code",
   "execution_count": 13,
   "id": "53f6c885-91e7-4569-8de5-37c753633c1e",
   "metadata": {},
   "outputs": [
    {
     "data": {
      "text/plain": [
       "Index          132\n",
       "Date      13115392\n",
       "X1        13115392\n",
       "X2        13115392\n",
       "X3        13115392\n",
       "X4        13115392\n",
       "X5        13115392\n",
       "target    81971200\n",
       "dtype: int64"
      ]
     },
     "execution_count": 13,
     "metadata": {},
     "output_type": "execute_result"
    }
   ],
   "source": [
    "df.memory_usage(deep=True)"
   ]
  },
  {
   "cell_type": "code",
   "execution_count": 14,
   "id": "55126fcc-5587-46e5-9f75-74553a4a8473",
   "metadata": {},
   "outputs": [
    {
     "data": {
      "text/plain": [
       "Date      datetime64[ns]\n",
       "X1               float64\n",
       "X2               float64\n",
       "X3               float64\n",
       "X4               float64\n",
       "X5               float64\n",
       "target            object\n",
       "dtype: object"
      ]
     },
     "execution_count": 14,
     "metadata": {},
     "output_type": "execute_result"
    }
   ],
   "source": [
    "df.dtypes"
   ]
  },
  {
   "cell_type": "code",
   "execution_count": 15,
   "id": "0af56100-db6b-4ec7-a1d3-7be73a001492",
   "metadata": {},
   "outputs": [
    {
     "name": "stdout",
     "output_type": "stream",
     "text": [
      "['0' '1']\n"
     ]
    }
   ],
   "source": [
    "# Check unique values first (just to confirm)\n",
    "print(df['target'].unique())\n"
   ]
  },
  {
   "cell_type": "code",
   "execution_count": 16,
   "id": "0196cd70-cae8-4525-8b92-3bd0b57228e8",
   "metadata": {},
   "outputs": [
    {
     "name": "stdout",
     "output_type": "stream",
     "text": [
      "int32\n"
     ]
    }
   ],
   "source": [
    "# Convert 'target' to integers (if values are like '0' and '1' as strings)\n",
    "df['target'] = df['target'].astype(int)\n",
    "# Confirm the change\n",
    "print(df['target'].dtypes)"
   ]
  },
  {
   "cell_type": "code",
   "execution_count": 17,
   "id": "99395d47-3ca0-4f0e-bd29-be39a6f19743",
   "metadata": {},
   "outputs": [
    {
     "data": {
      "text/plain": [
       "Date      datetime64[ns]\n",
       "X1               float64\n",
       "X2               float64\n",
       "X3               float64\n",
       "X4               float64\n",
       "X5               float64\n",
       "target             int32\n",
       "dtype: object"
      ]
     },
     "execution_count": 17,
     "metadata": {},
     "output_type": "execute_result"
    }
   ],
   "source": [
    "df.dtypes"
   ]
  },
  {
   "cell_type": "code",
   "execution_count": 18,
   "id": "68f0ff3b-8938-457b-b043-d831f92ff142",
   "metadata": {},
   "outputs": [],
   "source": [
    "# df.to_csv(\"train.csv\", index=False)"
   ]
  },
  {
   "cell_type": "code",
   "execution_count": 19,
   "id": "3ec69ddb-934f-47cc-ad30-40df5fbc330c",
   "metadata": {},
   "outputs": [],
   "source": [
    "class_distribution = df.iloc[:, -1].value_counts()"
   ]
  },
  {
   "cell_type": "code",
   "execution_count": 20,
   "id": "58a192f4-ca10-4d73-90a4-270c46b4a5b7",
   "metadata": {},
   "outputs": [
    {
     "data": {
      "text/plain": [
       "target\n",
       "0    1625386\n",
       "1      14038\n",
       "Name: count, dtype: int64"
      ]
     },
     "execution_count": 20,
     "metadata": {},
     "output_type": "execute_result"
    }
   ],
   "source": [
    "class_distribution"
   ]
  },
  {
   "cell_type": "code",
   "execution_count": 21,
   "id": "87810263-62f2-4abb-b333-80b9b191918f",
   "metadata": {},
   "outputs": [
    {
     "data": {
      "text/plain": [
       "57315"
      ]
     },
     "execution_count": 21,
     "metadata": {},
     "output_type": "execute_result"
    }
   ],
   "source": [
    "df.duplicated().sum()"
   ]
  },
  {
   "cell_type": "code",
   "execution_count": 22,
   "id": "7a458972-e405-458d-b5d2-1f1efcc62df8",
   "metadata": {},
   "outputs": [
    {
     "name": "stderr",
     "output_type": "stream",
     "text": [
      "C:\\Users\\ayush\\AppData\\Local\\Temp\\ipykernel_15652\\1161728047.py:5: FutureWarning: \n",
      "\n",
      "Passing `palette` without assigning `hue` is deprecated and will be removed in v0.14.0. Assign the `x` variable to `hue` and set `legend=False` for the same effect.\n",
      "\n",
      "  sns.countplot(x='target', data=df, palette='viridis')\n"
     ]
    },
    {
     "data": {
      "image/png": "[encoded data removed]",
      "text/plain": [
       "<Figure size 600x400 with 1 Axes>"
      ]
     },
     "metadata": {},
     "output_type": "display_data"
    }
   ],
   "source": [
    "import matplotlib.pyplot as plt\n",
    "import seaborn as sns\n",
    "\n",
    "plt.figure(figsize=(6, 4))\n",
    "sns.countplot(x='target', data=df, palette='viridis')\n",
    "plt.title('Class Distribution')\n",
    "plt.xlabel('Target Class')\n",
    "plt.ylabel('Count')\n",
    "plt.xticks([0, 1], ['Class 0', 'Class 1'])\n",
    "plt.tight_layout()\n",
    "plt.show()\n"
   ]
  },
  {
   "cell_type": "code",
   "execution_count": 23,
   "id": "73b27d73-2aea-4a76-b0fd-272c170d17a6",
   "metadata": {},
   "outputs": [
    {
     "data": {
      "image/png": "[encoded data removed]",
      "text/plain": [
       "<Figure size 1000x600 with 2 Axes>"
      ]
     },
     "metadata": {},
     "output_type": "display_data"
    }
   ],
   "source": [
    "plt.figure(figsize=(10, 6))\n",
    "sns.heatmap(df.corr(), annot=True, cmap='coolwarm', fmt=\".2f\")\n",
    "plt.title('Correlation Heatmap')\n",
    "plt.show()\n"
   ]
  },
  {
   "cell_type": "code",
   "execution_count": 24,
   "id": "76701311-626a-45cc-a1b0-cdb212c8dc00",
   "metadata": {},
   "outputs": [
    {
     "data": {
      "image/png": "[encoded data removed]",
      "text/plain": [
       "<Figure size 1500x800 with 6 Axes>"
      ]
     },
     "metadata": {},
     "output_type": "display_data"
    }
   ],
   "source": [
    "cols = ['X1', 'X2', 'X3', 'X4', 'X5']\n",
    "df[cols].hist(figsize=(15, 8))\n",
    "plt.suptitle(\"Sensor Value Distributions\")\n",
    "plt.show()"
   ]
  },
  {
   "cell_type": "code",
   "execution_count": 25,
   "id": "5a1334a4-1e22-478d-a0db-1c7603cbff2a",
   "metadata": {},
   "outputs": [],
   "source": [
    "# sensors = ['X1', 'X2', 'X3', 'X4', 'X5']\n",
    "\n",
    "# fig, axs = plt.subplots(len(sensors), 1, figsize=(15, 20), sharex=True)\n",
    "\n",
    "# for i, sensor in enumerate(sensors):\n",
    "#     sns.lineplot(x='Date',\n",
    "#                  y=sensor, data=df, hue='target', palette='coolwarm', ax=axs[i])\n",
    "#     axs[i].set_title(f\"{sensor} Sensor Over Time (Sampled)\")\n",
    "#     axs[i].legend(title='Target', loc='upper right')\n",
    "\n",
    "# plt.tight_layout()\n",
    "# plt.show()"
   ]
  },
  {
   "cell_type": "code",
   "execution_count": 33,
   "id": "7abfa791-5b3e-4d6c-a76e-8f6f99aaca16",
   "metadata": {},
   "outputs": [],
   "source": [
    "# for col in sensors:\n",
    "#     skewness = df[col].skew()\n",
    "#     kurt = df[col].kurt()\n",
    "#     print(f\"{col} ➤ Skewness: {skewness:.2f}, Kurtosis: {kurt:.2f}\")\n"
   ]
  },
  {
   "cell_type": "code",
   "execution_count": 37,
   "id": "30232114-c331-490b-bcba-b70fcfe76470",
   "metadata": {},
   "outputs": [],
   "source": [
    "# plt.figure(figsize=(15, 8))\n",
    "# for i, col in enumerate(sensors):\n",
    "#     plt.subplot(2, 3, i + 1)\n",
    "#     sns.boxplot(x='target', y=col, data=df, palette='Set2')\n",
    "#     plt.title(f'{col} vs Target')\n",
    "# plt.tight_layout()\n",
    "# plt.show()\n"
   ]
  },
  {
   "cell_type": "code",
   "execution_count": 41,
   "id": "737c8125-6c3e-43ee-a468-cc54bf76e656",
   "metadata": {},
   "outputs": [],
   "source": [
    "# plt.figure(figsize=(8, 6))\n",
    "# sns.heatmap(df[sensors].corr(), annot=True, cmap='coolwarm')\n",
    "# plt.title(\"Correlation between Sensor Features\")\n",
    "# plt.show()\n"
   ]
  },
  {
   "cell_type": "code",
   "execution_count": 43,
   "id": "c2cb64bc-0009-48d2-939c-dc1df642a662",
   "metadata": {},
   "outputs": [
    {
     "name": "stderr",
     "output_type": "stream",
     "text": [
      "C:\\Users\\ayush\\AppData\\Local\\Temp\\ipykernel_15652\\4181120353.py:1: FutureWarning: \n",
      "\n",
      "Passing `palette` without assigning `hue` is deprecated and will be removed in v0.14.0. Assign the `x` variable to `hue` and set `legend=False` for the same effect.\n",
      "\n",
      "  sns.countplot(x='target', data=df, palette='pastel')\n"
     ]
    },
    {
     "data": {
      "image/png": "[encoded data removed]",
      "text/plain": [
       "<Figure size 640x480 with 1 Axes>"
      ]
     },
     "metadata": {},
     "output_type": "display_data"
    }
   ],
   "source": [
    "sns.countplot(x='target', data=df, palette='pastel')\n",
    "plt.title(\"Target Class Distribution\")\n",
    "plt.show()\n"
   ]
  },
  {
   "cell_type": "code",
   "execution_count": 45,
   "id": "623741d5-2759-4ae7-a5b8-c569fb71d55c",
   "metadata": {},
   "outputs": [
    {
     "data": {
      "text/plain": [
       "108384"
      ]
     },
     "execution_count": 45,
     "metadata": {},
     "output_type": "execute_result"
    }
   ],
   "source": [
    "df.duplicated(keep = False).sum()  # Total fully duplicated rows"
   ]
  },
  {
   "cell_type": "code",
   "execution_count": 47,
   "id": "0f1e0c5d-3896-4484-bc74-1571a48bdd23",
   "metadata": {},
   "outputs": [
    {
     "name": "stdout",
     "output_type": "stream",
     "text": [
      "target\n",
      "0    108374\n",
      "1        10\n",
      "Name: count, dtype: int64\n"
     ]
    }
   ],
   "source": [
    "duplicate_rows = df[df.duplicated(keep=False)]\n",
    "print(duplicate_rows['target'].value_counts())\n"
   ]
  },
  {
   "cell_type": "code",
   "execution_count": 49,
   "id": "37e882a9-55ee-4da5-8657-82d79f7a55c0",
   "metadata": {},
   "outputs": [
    {
     "data": {
      "text/html": [
       "<div>\n",
       "<style scoped>\n",
       "    .dataframe tbody tr th:only-of-type {\n",
       "        vertical-align: middle;\n",
       "    }\n",
       "\n",
       "    .dataframe tbody tr th {\n",
       "        vertical-align: top;\n",
       "    }\n",
       "\n",
       "    .dataframe thead th {\n",
       "        text-align: right;\n",
       "    }\n",
       "</style>\n",
       "<table border=\"1\" class=\"dataframe\">\n",
       "  <thead>\n",
       "    <tr style=\"text-align: right;\">\n",
       "      <th></th>\n",
       "      <th>Date</th>\n",
       "      <th>X1</th>\n",
       "      <th>X2</th>\n",
       "      <th>X3</th>\n",
       "      <th>X4</th>\n",
       "      <th>X5</th>\n",
       "      <th>target</th>\n",
       "    </tr>\n",
       "  </thead>\n",
       "  <tbody>\n",
       "    <tr>\n",
       "      <th>119</th>\n",
       "      <td>2020-12-16</td>\n",
       "      <td>1.168826</td>\n",
       "      <td>5.454637</td>\n",
       "      <td>1.0</td>\n",
       "      <td>2.718282</td>\n",
       "      <td>2.890372</td>\n",
       "      <td>0</td>\n",
       "    </tr>\n",
       "    <tr>\n",
       "      <th>109</th>\n",
       "      <td>2020-12-16</td>\n",
       "      <td>1.168826</td>\n",
       "      <td>5.454637</td>\n",
       "      <td>1.0</td>\n",
       "      <td>2.718282</td>\n",
       "      <td>2.890372</td>\n",
       "      <td>0</td>\n",
       "    </tr>\n",
       "    <tr>\n",
       "      <th>923</th>\n",
       "      <td>2020-12-17</td>\n",
       "      <td>1.114048</td>\n",
       "      <td>5.486787</td>\n",
       "      <td>1.0</td>\n",
       "      <td>1.000000</td>\n",
       "      <td>2.944439</td>\n",
       "      <td>0</td>\n",
       "    </tr>\n",
       "    <tr>\n",
       "      <th>932</th>\n",
       "      <td>2020-12-17</td>\n",
       "      <td>1.114048</td>\n",
       "      <td>5.486787</td>\n",
       "      <td>1.0</td>\n",
       "      <td>1.000000</td>\n",
       "      <td>2.944439</td>\n",
       "      <td>0</td>\n",
       "    </tr>\n",
       "    <tr>\n",
       "      <th>1394</th>\n",
       "      <td>2020-12-17</td>\n",
       "      <td>1.000000</td>\n",
       "      <td>5.505535</td>\n",
       "      <td>1.0</td>\n",
       "      <td>1.000000</td>\n",
       "      <td>0.000000</td>\n",
       "      <td>0</td>\n",
       "    </tr>\n",
       "    <tr>\n",
       "      <th>1392</th>\n",
       "      <td>2020-12-17</td>\n",
       "      <td>1.000000</td>\n",
       "      <td>5.505291</td>\n",
       "      <td>1.0</td>\n",
       "      <td>1.000000</td>\n",
       "      <td>0.000000</td>\n",
       "      <td>0</td>\n",
       "    </tr>\n",
       "    <tr>\n",
       "      <th>467</th>\n",
       "      <td>2020-12-17</td>\n",
       "      <td>1.000000</td>\n",
       "      <td>5.500605</td>\n",
       "      <td>1.0</td>\n",
       "      <td>1.000000</td>\n",
       "      <td>0.000000</td>\n",
       "      <td>0</td>\n",
       "    </tr>\n",
       "    <tr>\n",
       "      <th>464</th>\n",
       "      <td>2020-12-17</td>\n",
       "      <td>1.000000</td>\n",
       "      <td>5.500156</td>\n",
       "      <td>1.0</td>\n",
       "      <td>1.000000</td>\n",
       "      <td>0.000000</td>\n",
       "      <td>0</td>\n",
       "    </tr>\n",
       "    <tr>\n",
       "      <th>460</th>\n",
       "      <td>2020-12-17</td>\n",
       "      <td>1.000000</td>\n",
       "      <td>5.507524</td>\n",
       "      <td>1.0</td>\n",
       "      <td>1.000000</td>\n",
       "      <td>0.000000</td>\n",
       "      <td>0</td>\n",
       "    </tr>\n",
       "    <tr>\n",
       "      <th>510</th>\n",
       "      <td>2020-12-17</td>\n",
       "      <td>1.000000</td>\n",
       "      <td>5.500156</td>\n",
       "      <td>1.0</td>\n",
       "      <td>1.000000</td>\n",
       "      <td>0.000000</td>\n",
       "      <td>0</td>\n",
       "    </tr>\n",
       "  </tbody>\n",
       "</table>\n",
       "</div>"
      ],
      "text/plain": [
       "           Date        X1        X2   X3        X4        X5  target\n",
       "119  2020-12-16  1.168826  5.454637  1.0  2.718282  2.890372       0\n",
       "109  2020-12-16  1.168826  5.454637  1.0  2.718282  2.890372       0\n",
       "923  2020-12-17  1.114048  5.486787  1.0  1.000000  2.944439       0\n",
       "932  2020-12-17  1.114048  5.486787  1.0  1.000000  2.944439       0\n",
       "1394 2020-12-17  1.000000  5.505535  1.0  1.000000  0.000000       0\n",
       "1392 2020-12-17  1.000000  5.505291  1.0  1.000000  0.000000       0\n",
       "467  2020-12-17  1.000000  5.500605  1.0  1.000000  0.000000       0\n",
       "464  2020-12-17  1.000000  5.500156  1.0  1.000000  0.000000       0\n",
       "460  2020-12-17  1.000000  5.507524  1.0  1.000000  0.000000       0\n",
       "510  2020-12-17  1.000000  5.500156  1.0  1.000000  0.000000       0"
      ]
     },
     "execution_count": 49,
     "metadata": {},
     "output_type": "execute_result"
    }
   ],
   "source": [
    "df_sorted = df.sort_values('Date')\n",
    "dupes_sorted = df_sorted[df_sorted.duplicated(keep=False)]\n",
    "dupes_sorted.head(10)"
   ]
  },
  {
   "cell_type": "code",
   "execution_count": 51,
   "id": "b340b73f-5e56-442d-b733-d83af59cd951",
   "metadata": {},
   "outputs": [],
   "source": [
    "df = df.drop_duplicates().reset_index(drop=True)"
   ]
  },
  {
   "cell_type": "code",
   "execution_count": 53,
   "id": "56155dcf-bfb7-4707-9844-1e5f986550e7",
   "metadata": {},
   "outputs": [
    {
     "data": {
      "text/plain": [
       "0"
      ]
     },
     "execution_count": 53,
     "metadata": {},
     "output_type": "execute_result"
    }
   ],
   "source": [
    "df.duplicated().sum()"
   ]
  },
  {
   "cell_type": "code",
   "execution_count": 54,
   "id": "6c3f5cbc-2d72-4971-aaf2-57528f117d5f",
   "metadata": {},
   "outputs": [],
   "source": [
    "df['year'] = df['Date'].dt.year\n",
    "df['month'] = df['Date'].dt.month\n",
    "df['day'] = df['Date'].dt.day\n",
    "df['dayofweek'] = df['Date'].dt.dayofweek\n",
    "df['weekend'] = df['dayofweek'].apply(lambda x: 1 if x >= 5 else 0)"
   ]
  },
  {
   "cell_type": "code",
   "execution_count": 57,
   "id": "91b646ff-b9ac-4829-99b3-0ff493de1e17",
   "metadata": {},
   "outputs": [
    {
     "data": {
      "text/html": [
       "<div>\n",
       "<style scoped>\n",
       "    .dataframe tbody tr th:only-of-type {\n",
       "        vertical-align: middle;\n",
       "    }\n",
       "\n",
       "    .dataframe tbody tr th {\n",
       "        vertical-align: top;\n",
       "    }\n",
       "\n",
       "    .dataframe thead th {\n",
       "        text-align: right;\n",
       "    }\n",
       "</style>\n",
       "<table border=\"1\" class=\"dataframe\">\n",
       "  <thead>\n",
       "    <tr style=\"text-align: right;\">\n",
       "      <th></th>\n",
       "      <th>Date</th>\n",
       "      <th>X1</th>\n",
       "      <th>X2</th>\n",
       "      <th>X3</th>\n",
       "      <th>X4</th>\n",
       "      <th>X5</th>\n",
       "      <th>target</th>\n",
       "      <th>year</th>\n",
       "      <th>month</th>\n",
       "      <th>day</th>\n",
       "      <th>dayofweek</th>\n",
       "      <th>weekend</th>\n",
       "    </tr>\n",
       "  </thead>\n",
       "  <tbody>\n",
       "    <tr>\n",
       "      <th>0</th>\n",
       "      <td>2020-12-16</td>\n",
       "      <td>1.518921</td>\n",
       "      <td>5.463154</td>\n",
       "      <td>1.0</td>\n",
       "      <td>2.718282</td>\n",
       "      <td>2.890372</td>\n",
       "      <td>0</td>\n",
       "      <td>2020</td>\n",
       "      <td>12</td>\n",
       "      <td>16</td>\n",
       "      <td>2</td>\n",
       "      <td>0</td>\n",
       "    </tr>\n",
       "    <tr>\n",
       "      <th>1</th>\n",
       "      <td>2020-12-16</td>\n",
       "      <td>1.546509</td>\n",
       "      <td>5.458010</td>\n",
       "      <td>1.0</td>\n",
       "      <td>2.718282</td>\n",
       "      <td>2.833213</td>\n",
       "      <td>1</td>\n",
       "      <td>2020</td>\n",
       "      <td>12</td>\n",
       "      <td>16</td>\n",
       "      <td>2</td>\n",
       "      <td>0</td>\n",
       "    </tr>\n",
       "    <tr>\n",
       "      <th>2</th>\n",
       "      <td>2020-12-16</td>\n",
       "      <td>1.645427</td>\n",
       "      <td>5.456560</td>\n",
       "      <td>1.0</td>\n",
       "      <td>7.389056</td>\n",
       "      <td>2.890372</td>\n",
       "      <td>1</td>\n",
       "      <td>2020</td>\n",
       "      <td>12</td>\n",
       "      <td>16</td>\n",
       "      <td>2</td>\n",
       "      <td>0</td>\n",
       "    </tr>\n",
       "    <tr>\n",
       "      <th>3</th>\n",
       "      <td>2020-12-16</td>\n",
       "      <td>1.652022</td>\n",
       "      <td>5.458479</td>\n",
       "      <td>1.0</td>\n",
       "      <td>2.718282</td>\n",
       "      <td>2.890372</td>\n",
       "      <td>1</td>\n",
       "      <td>2020</td>\n",
       "      <td>12</td>\n",
       "      <td>16</td>\n",
       "      <td>2</td>\n",
       "      <td>0</td>\n",
       "    </tr>\n",
       "    <tr>\n",
       "      <th>4</th>\n",
       "      <td>2020-12-16</td>\n",
       "      <td>1.695538</td>\n",
       "      <td>5.466709</td>\n",
       "      <td>1.0</td>\n",
       "      <td>2.718282</td>\n",
       "      <td>2.890372</td>\n",
       "      <td>0</td>\n",
       "      <td>2020</td>\n",
       "      <td>12</td>\n",
       "      <td>16</td>\n",
       "      <td>2</td>\n",
       "      <td>0</td>\n",
       "    </tr>\n",
       "    <tr>\n",
       "      <th>...</th>\n",
       "      <td>...</td>\n",
       "      <td>...</td>\n",
       "      <td>...</td>\n",
       "      <td>...</td>\n",
       "      <td>...</td>\n",
       "      <td>...</td>\n",
       "      <td>...</td>\n",
       "      <td>...</td>\n",
       "      <td>...</td>\n",
       "      <td>...</td>\n",
       "      <td>...</td>\n",
       "      <td>...</td>\n",
       "    </tr>\n",
       "    <tr>\n",
       "      <th>1582104</th>\n",
       "      <td>2024-11-26</td>\n",
       "      <td>1.000000</td>\n",
       "      <td>5.482346</td>\n",
       "      <td>1.0</td>\n",
       "      <td>1.000000</td>\n",
       "      <td>0.000000</td>\n",
       "      <td>0</td>\n",
       "      <td>2024</td>\n",
       "      <td>11</td>\n",
       "      <td>26</td>\n",
       "      <td>1</td>\n",
       "      <td>0</td>\n",
       "    </tr>\n",
       "    <tr>\n",
       "      <th>1582105</th>\n",
       "      <td>2024-11-26</td>\n",
       "      <td>1.000000</td>\n",
       "      <td>5.486580</td>\n",
       "      <td>1.0</td>\n",
       "      <td>1.000000</td>\n",
       "      <td>0.000000</td>\n",
       "      <td>0</td>\n",
       "      <td>2024</td>\n",
       "      <td>11</td>\n",
       "      <td>26</td>\n",
       "      <td>1</td>\n",
       "      <td>0</td>\n",
       "    </tr>\n",
       "    <tr>\n",
       "      <th>1582106</th>\n",
       "      <td>2024-11-26</td>\n",
       "      <td>1.000000</td>\n",
       "      <td>5.484797</td>\n",
       "      <td>1.0</td>\n",
       "      <td>1.000000</td>\n",
       "      <td>0.000000</td>\n",
       "      <td>0</td>\n",
       "      <td>2024</td>\n",
       "      <td>11</td>\n",
       "      <td>26</td>\n",
       "      <td>1</td>\n",
       "      <td>0</td>\n",
       "    </tr>\n",
       "    <tr>\n",
       "      <th>1582107</th>\n",
       "      <td>2024-11-26</td>\n",
       "      <td>1.000000</td>\n",
       "      <td>5.483551</td>\n",
       "      <td>1.0</td>\n",
       "      <td>1.000000</td>\n",
       "      <td>0.000000</td>\n",
       "      <td>0</td>\n",
       "      <td>2024</td>\n",
       "      <td>11</td>\n",
       "      <td>26</td>\n",
       "      <td>1</td>\n",
       "      <td>0</td>\n",
       "    </tr>\n",
       "    <tr>\n",
       "      <th>1582108</th>\n",
       "      <td>2024-11-26</td>\n",
       "      <td>1.000000</td>\n",
       "      <td>5.482928</td>\n",
       "      <td>1.0</td>\n",
       "      <td>1.000000</td>\n",
       "      <td>0.000000</td>\n",
       "      <td>0</td>\n",
       "      <td>2024</td>\n",
       "      <td>11</td>\n",
       "      <td>26</td>\n",
       "      <td>1</td>\n",
       "      <td>0</td>\n",
       "    </tr>\n",
       "  </tbody>\n",
       "</table>\n",
       "<p>1582109 rows × 12 columns</p>\n",
       "</div>"
      ],
      "text/plain": [
       "              Date        X1        X2   X3        X4        X5  target  year  \\\n",
       "0       2020-12-16  1.518921  5.463154  1.0  2.718282  2.890372       0  2020   \n",
       "1       2020-12-16  1.546509  5.458010  1.0  2.718282  2.833213       1  2020   \n",
       "2       2020-12-16  1.645427  5.456560  1.0  7.389056  2.890372       1  2020   \n",
       "3       2020-12-16  1.652022  5.458479  1.0  2.718282  2.890372       1  2020   \n",
       "4       2020-12-16  1.695538  5.466709  1.0  2.718282  2.890372       0  2020   \n",
       "...            ...       ...       ...  ...       ...       ...     ...   ...   \n",
       "1582104 2024-11-26  1.000000  5.482346  1.0  1.000000  0.000000       0  2024   \n",
       "1582105 2024-11-26  1.000000  5.486580  1.0  1.000000  0.000000       0  2024   \n",
       "1582106 2024-11-26  1.000000  5.484797  1.0  1.000000  0.000000       0  2024   \n",
       "1582107 2024-11-26  1.000000  5.483551  1.0  1.000000  0.000000       0  2024   \n",
       "1582108 2024-11-26  1.000000  5.482928  1.0  1.000000  0.000000       0  2024   \n",
       "\n",
       "         month  day  dayofweek  weekend  \n",
       "0           12   16          2        0  \n",
       "1           12   16          2        0  \n",
       "2           12   16          2        0  \n",
       "3           12   16          2        0  \n",
       "4           12   16          2        0  \n",
       "...        ...  ...        ...      ...  \n",
       "1582104     11   26          1        0  \n",
       "1582105     11   26          1        0  \n",
       "1582106     11   26          1        0  \n",
       "1582107     11   26          1        0  \n",
       "1582108     11   26          1        0  \n",
       "\n",
       "[1582109 rows x 12 columns]"
      ]
     },
     "execution_count": 57,
     "metadata": {},
     "output_type": "execute_result"
    }
   ],
   "source": [
    "df"
   ]
  },
  {
   "cell_type": "code",
   "execution_count": 59,
   "id": "c1405316-f73c-4dad-89cb-d50efb8d7a7e",
   "metadata": {},
   "outputs": [
    {
     "data": {
      "text/plain": [
       "weekend\n",
       "0    1128293\n",
       "1     453816\n",
       "Name: count, dtype: int64"
      ]
     },
     "execution_count": 59,
     "metadata": {},
     "output_type": "execute_result"
    }
   ],
   "source": [
    "df[\"weekend\"].value_counts()"
   ]
  },
  {
   "cell_type": "code",
   "execution_count": 61,
   "id": "21179ef1-b480-43fe-a3a9-909ad0fd3f1f",
   "metadata": {},
   "outputs": [],
   "source": [
    "# pip install git+https://github.com/scikit-learn-contrib/imbalanced-learn.git"
   ]
  },
  {
   "cell_type": "code",
   "execution_count": 63,
   "id": "e86b477f-8dec-44f5-893d-8c79dd25ffca",
   "metadata": {},
   "outputs": [],
   "source": [
    "# def remove_outliers_iqr(df, columns):\n",
    "#     df_clean = df.copy()\n",
    "#     for col in columns:\n",
    "#         Q1 = df_clean[col].quantile(0.25)\n",
    "#         Q3 = df_clean[col].quantile(0.75)\n",
    "#         IQR = Q3 - Q1\n",
    "#         lower_bound = Q1 - 1.5 * IQR\n",
    "#         upper_bound = Q3 + 1.5 * IQR\n",
    "#         # Keep only data within bounds\n",
    "#         df_clean = df_clean[(df_clean[col] >= lower_bound) & (df_clean[col] <= upper_bound)]\n",
    "#     return df_clean\n",
    "\n",
    "# # Specify sensor columns\n",
    "# sensor_cols = ['X1', 'X2', 'X3', 'X4', 'X5']\n",
    "\n",
    "# # Apply outlier removal\n",
    "# df_no_outliers = remove_outliers_iqr(df, sensor_cols)\n",
    "\n",
    "# # Shape before and after\n",
    "# print(\"Before removing outliers:\", df.shape)\n",
    "# print(\"After removing outliers:\", df_no_outliers.shape)\n"
   ]
  },
  {
   "cell_type": "code",
   "execution_count": 65,
   "id": "1191b96e-e35d-4b03-a286-c5bff86bb72d",
   "metadata": {},
   "outputs": [],
   "source": [
    "#IQR method (capping)\n",
    "for col in ['X1', 'X2', 'X3', 'X4', 'X5']:\n",
    "    Q1 = df[col].quantile(0.25)\n",
    "    Q3 = df[col].quantile(0.75)\n",
    "    IQR = Q3 - Q1\n",
    "    lower = Q1 - 1.5 * IQR\n",
    "    upper = Q3 + 1.5 * IQR\n",
    "\n",
    "    df[col] = df[col].clip(lower, upper)"
   ]
  },
  {
   "cell_type": "code",
   "execution_count": 67,
   "id": "6dc1de04-1132-46c7-b9bc-1f50b294a5a7",
   "metadata": {},
   "outputs": [
    {
     "data": {
      "text/html": [
       "<div>\n",
       "<style scoped>\n",
       "    .dataframe tbody tr th:only-of-type {\n",
       "        vertical-align: middle;\n",
       "    }\n",
       "\n",
       "    .dataframe tbody tr th {\n",
       "        vertical-align: top;\n",
       "    }\n",
       "\n",
       "    .dataframe thead th {\n",
       "        text-align: right;\n",
       "    }\n",
       "</style>\n",
       "<table border=\"1\" class=\"dataframe\">\n",
       "  <thead>\n",
       "    <tr style=\"text-align: right;\">\n",
       "      <th></th>\n",
       "      <th>Date</th>\n",
       "      <th>X1</th>\n",
       "      <th>X2</th>\n",
       "      <th>X3</th>\n",
       "      <th>X4</th>\n",
       "      <th>X5</th>\n",
       "      <th>target</th>\n",
       "      <th>year</th>\n",
       "      <th>month</th>\n",
       "      <th>day</th>\n",
       "      <th>dayofweek</th>\n",
       "      <th>weekend</th>\n",
       "    </tr>\n",
       "  </thead>\n",
       "  <tbody>\n",
       "    <tr>\n",
       "      <th>0</th>\n",
       "      <td>2020-12-16</td>\n",
       "      <td>1.467342</td>\n",
       "      <td>5.463154</td>\n",
       "      <td>1.0</td>\n",
       "      <td>2.718282</td>\n",
       "      <td>2.890372</td>\n",
       "      <td>0</td>\n",
       "      <td>2020</td>\n",
       "      <td>12</td>\n",
       "      <td>16</td>\n",
       "      <td>2</td>\n",
       "      <td>0</td>\n",
       "    </tr>\n",
       "    <tr>\n",
       "      <th>1</th>\n",
       "      <td>2020-12-16</td>\n",
       "      <td>1.467342</td>\n",
       "      <td>5.458010</td>\n",
       "      <td>1.0</td>\n",
       "      <td>2.718282</td>\n",
       "      <td>2.833213</td>\n",
       "      <td>1</td>\n",
       "      <td>2020</td>\n",
       "      <td>12</td>\n",
       "      <td>16</td>\n",
       "      <td>2</td>\n",
       "      <td>0</td>\n",
       "    </tr>\n",
       "    <tr>\n",
       "      <th>2</th>\n",
       "      <td>2020-12-16</td>\n",
       "      <td>1.467342</td>\n",
       "      <td>5.456560</td>\n",
       "      <td>1.0</td>\n",
       "      <td>5.295705</td>\n",
       "      <td>2.890372</td>\n",
       "      <td>1</td>\n",
       "      <td>2020</td>\n",
       "      <td>12</td>\n",
       "      <td>16</td>\n",
       "      <td>2</td>\n",
       "      <td>0</td>\n",
       "    </tr>\n",
       "    <tr>\n",
       "      <th>3</th>\n",
       "      <td>2020-12-16</td>\n",
       "      <td>1.467342</td>\n",
       "      <td>5.458479</td>\n",
       "      <td>1.0</td>\n",
       "      <td>2.718282</td>\n",
       "      <td>2.890372</td>\n",
       "      <td>1</td>\n",
       "      <td>2020</td>\n",
       "      <td>12</td>\n",
       "      <td>16</td>\n",
       "      <td>2</td>\n",
       "      <td>0</td>\n",
       "    </tr>\n",
       "    <tr>\n",
       "      <th>4</th>\n",
       "      <td>2020-12-16</td>\n",
       "      <td>1.467342</td>\n",
       "      <td>5.466709</td>\n",
       "      <td>1.0</td>\n",
       "      <td>2.718282</td>\n",
       "      <td>2.890372</td>\n",
       "      <td>0</td>\n",
       "      <td>2020</td>\n",
       "      <td>12</td>\n",
       "      <td>16</td>\n",
       "      <td>2</td>\n",
       "      <td>0</td>\n",
       "    </tr>\n",
       "    <tr>\n",
       "      <th>...</th>\n",
       "      <td>...</td>\n",
       "      <td>...</td>\n",
       "      <td>...</td>\n",
       "      <td>...</td>\n",
       "      <td>...</td>\n",
       "      <td>...</td>\n",
       "      <td>...</td>\n",
       "      <td>...</td>\n",
       "      <td>...</td>\n",
       "      <td>...</td>\n",
       "      <td>...</td>\n",
       "      <td>...</td>\n",
       "    </tr>\n",
       "    <tr>\n",
       "      <th>1582104</th>\n",
       "      <td>2024-11-26</td>\n",
       "      <td>1.000000</td>\n",
       "      <td>5.482346</td>\n",
       "      <td>1.0</td>\n",
       "      <td>1.000000</td>\n",
       "      <td>0.000000</td>\n",
       "      <td>0</td>\n",
       "      <td>2024</td>\n",
       "      <td>11</td>\n",
       "      <td>26</td>\n",
       "      <td>1</td>\n",
       "      <td>0</td>\n",
       "    </tr>\n",
       "    <tr>\n",
       "      <th>1582105</th>\n",
       "      <td>2024-11-26</td>\n",
       "      <td>1.000000</td>\n",
       "      <td>5.486580</td>\n",
       "      <td>1.0</td>\n",
       "      <td>1.000000</td>\n",
       "      <td>0.000000</td>\n",
       "      <td>0</td>\n",
       "      <td>2024</td>\n",
       "      <td>11</td>\n",
       "      <td>26</td>\n",
       "      <td>1</td>\n",
       "      <td>0</td>\n",
       "    </tr>\n",
       "    <tr>\n",
       "      <th>1582106</th>\n",
       "      <td>2024-11-26</td>\n",
       "      <td>1.000000</td>\n",
       "      <td>5.484797</td>\n",
       "      <td>1.0</td>\n",
       "      <td>1.000000</td>\n",
       "      <td>0.000000</td>\n",
       "      <td>0</td>\n",
       "      <td>2024</td>\n",
       "      <td>11</td>\n",
       "      <td>26</td>\n",
       "      <td>1</td>\n",
       "      <td>0</td>\n",
       "    </tr>\n",
       "    <tr>\n",
       "      <th>1582107</th>\n",
       "      <td>2024-11-26</td>\n",
       "      <td>1.000000</td>\n",
       "      <td>5.483551</td>\n",
       "      <td>1.0</td>\n",
       "      <td>1.000000</td>\n",
       "      <td>0.000000</td>\n",
       "      <td>0</td>\n",
       "      <td>2024</td>\n",
       "      <td>11</td>\n",
       "      <td>26</td>\n",
       "      <td>1</td>\n",
       "      <td>0</td>\n",
       "    </tr>\n",
       "    <tr>\n",
       "      <th>1582108</th>\n",
       "      <td>2024-11-26</td>\n",
       "      <td>1.000000</td>\n",
       "      <td>5.482928</td>\n",
       "      <td>1.0</td>\n",
       "      <td>1.000000</td>\n",
       "      <td>0.000000</td>\n",
       "      <td>0</td>\n",
       "      <td>2024</td>\n",
       "      <td>11</td>\n",
       "      <td>26</td>\n",
       "      <td>1</td>\n",
       "      <td>0</td>\n",
       "    </tr>\n",
       "  </tbody>\n",
       "</table>\n",
       "<p>1582109 rows × 12 columns</p>\n",
       "</div>"
      ],
      "text/plain": [
       "              Date        X1        X2   X3        X4        X5  target  year  \\\n",
       "0       2020-12-16  1.467342  5.463154  1.0  2.718282  2.890372       0  2020   \n",
       "1       2020-12-16  1.467342  5.458010  1.0  2.718282  2.833213       1  2020   \n",
       "2       2020-12-16  1.467342  5.456560  1.0  5.295705  2.890372       1  2020   \n",
       "3       2020-12-16  1.467342  5.458479  1.0  2.718282  2.890372       1  2020   \n",
       "4       2020-12-16  1.467342  5.466709  1.0  2.718282  2.890372       0  2020   \n",
       "...            ...       ...       ...  ...       ...       ...     ...   ...   \n",
       "1582104 2024-11-26  1.000000  5.482346  1.0  1.000000  0.000000       0  2024   \n",
       "1582105 2024-11-26  1.000000  5.486580  1.0  1.000000  0.000000       0  2024   \n",
       "1582106 2024-11-26  1.000000  5.484797  1.0  1.000000  0.000000       0  2024   \n",
       "1582107 2024-11-26  1.000000  5.483551  1.0  1.000000  0.000000       0  2024   \n",
       "1582108 2024-11-26  1.000000  5.482928  1.0  1.000000  0.000000       0  2024   \n",
       "\n",
       "         month  day  dayofweek  weekend  \n",
       "0           12   16          2        0  \n",
       "1           12   16          2        0  \n",
       "2           12   16          2        0  \n",
       "3           12   16          2        0  \n",
       "4           12   16          2        0  \n",
       "...        ...  ...        ...      ...  \n",
       "1582104     11   26          1        0  \n",
       "1582105     11   26          1        0  \n",
       "1582106     11   26          1        0  \n",
       "1582107     11   26          1        0  \n",
       "1582108     11   26          1        0  \n",
       "\n",
       "[1582109 rows x 12 columns]"
      ]
     },
     "execution_count": 67,
     "metadata": {},
     "output_type": "execute_result"
    }
   ],
   "source": [
    "df"
   ]
  },
  {
   "cell_type": "code",
   "execution_count": 73,
   "id": "faeaa26d-18b0-4083-8a13-d02c892c33b6",
   "metadata": {},
   "outputs": [],
   "source": [
    "from sklearn.model_selection import train_test_split\n",
    "from sklearn.preprocessing import RobustScaler\n",
    "from imblearn.combine import SMOTETomek\n",
    "import pandas as pd\n",
    "from collections import Counter\n",
    "X = df.drop(\"target\", axis=1)\n",
    "y = df[\"target\"]\n",
    "\n",
    "# Step 1: Train-test split\n",
    "X_train, X_test, y_train, y_test = train_test_split(X, y, \n",
    "                                                    test_size=0.2, \n",
    "                                                    stratify=y, \n",
    "                                                    random_state=42)"
   ]
  },
  {
   "cell_type": "code",
   "execution_count": 77,
   "id": "573b869d-d6da-4a25-bfba-c046ab08e07a",
   "metadata": {},
   "outputs": [
    {
     "data": {
      "text/plain": [
       "Date         datetime64[ns]\n",
       "X1                  float64\n",
       "X2                  float64\n",
       "X3                  float64\n",
       "X4                  float64\n",
       "X5                  float64\n",
       "year                  int32\n",
       "month                 int32\n",
       "day                   int32\n",
       "dayofweek             int32\n",
       "weekend               int64\n",
       "dtype: object"
      ]
     },
     "execution_count": 77,
     "metadata": {},
     "output_type": "execute_result"
    }
   ],
   "source": [
    "X_train.dtypes\n"
   ]
  },
  {
   "cell_type": "code",
   "execution_count": 79,
   "id": "e1ccd39d-d741-4e23-b01a-9a304d09e49c",
   "metadata": {},
   "outputs": [],
   "source": [
    "from sklearn.preprocessing import RobustScaler\n",
    "\n",
    "# Drop the datetime column\n",
    "X_train = X_train.drop(columns=['Date'])\n",
    "X_test = X_test.drop(columns=['Date'])\n",
    "\n",
    "# Apply RobustScaler\n",
    "scaler = RobustScaler()\n",
    "X_train_scaled = scaler.fit_transform(X_train)\n",
    "X_test_scaled = scaler.transform(X_test)"
   ]
  },
  {
   "cell_type": "code",
   "execution_count": 81,
   "id": "63502095-d2ee-4e62-a7f2-15335dfcd2f3",
   "metadata": {},
   "outputs": [
    {
     "name": "stdout",
     "output_type": "stream",
     "text": [
      "Before resampling: Counter({0: 1254461, 1: 11226})\n",
      "After resampling: Counter({0: 1253377, 1: 1253377})\n"
     ]
    }
   ],
   "source": [
    "# Step 3: Apply SMOTETomek (or SMOTE)\n",
    "print(\"Before resampling:\", Counter(y_train))\n",
    "\n",
    "smote_tomek = SMOTETomek(random_state=42, n_jobs = -1)\n",
    "X_resampled, y_resampled = smote_tomek.fit_resample(X_train_scaled, y_train.astype(int))\n",
    "\n",
    "print(\"After resampling:\", Counter(y_resampled))\n"
   ]
  },
  {
   "cell_type": "code",
   "execution_count": 85,
   "id": "e8460f1f-8db8-4644-88be-5be0f52082e2",
   "metadata": {},
   "outputs": [],
   "source": [
    "# pip install xgboost"
   ]
  },
  {
   "cell_type": "code",
   "execution_count": 87,
   "id": "6fc23641-9fdb-4db7-b13a-fdce96323b7c",
   "metadata": {},
   "outputs": [],
   "source": [
    "import optuna\n",
    "from xgboost import XGBClassifier\n",
    "from sklearn.model_selection import cross_validate, StratifiedKFold\n",
    "from sklearn.metrics import f1_score\n"
   ]
  },
  {
   "cell_type": "code",
   "execution_count": 95,
   "id": "bad0bd9c-1cc7-499a-a3fd-e9ed69f64d00",
   "metadata": {},
   "outputs": [],
   "source": [
    "from sklearn.model_selection import cross_val_score\n",
    "from xgboost import XGBClassifier\n",
    "\n",
    "def objective(trial):\n",
    "    params = {\n",
    "        'n_estimators': trial.suggest_int('n_estimators', 100, 1000),\n",
    "        'max_depth': trial.suggest_int('max_depth', 3, 12),\n",
    "        'learning_rate': trial.suggest_float('learning_rate', 0.01, 0.3),\n",
    "        'subsample': trial.suggest_float('subsample', 0.5, 1.0),\n",
    "        'colsample_bytree': trial.suggest_float('colsample_bytree', 0.5, 1.0),\n",
    "        'gamma': trial.suggest_float('gamma', 0, 5),\n",
    "        'reg_alpha': trial.suggest_float('reg_alpha', 0, 5),\n",
    "        'reg_lambda': trial.suggest_float('reg_lambda', 0, 5),\n",
    "        'scale_pos_weight': trial.suggest_float('scale_pos_weight', 1, 10),\n",
    "        'random_state': 42,\n",
    "        'use_label_encoder': False,\n",
    "        'eval_metric': 'logloss'\n",
    "    }\n",
    "\n",
    "    model = XGBClassifier(**params)\n",
    "\n",
    "    # Use cross_val_score directly to get scores\n",
    "    scores = cross_val_score(model, X_resampled, y_resampled, scoring='f1', cv=3)\n",
    "\n",
    "    return scores.mean()\n"
   ]
  },
  {
   "cell_type": "code",
   "execution_count": 97,
   "id": "b33a6abe-0e0c-4d9b-9cc3-d8c08d9c5505",
   "metadata": {},
   "outputs": [
    {
     "name": "stderr",
     "output_type": "stream",
     "text": [
      "[I 2025-04-10 00:53:53,964] A new study created in memory with name: no-name-54f16b4f-aef1-4c47-bac1-0201e06678fa\n"
     ]
    }
   ],
   "source": [
    "# Run Optuna optimization\n",
    "study = optuna.create_study(direction=\"maximize\", sampler= optuna.samplers.TPESampler())"
   ]
  },
  {
   "cell_type": "code",
   "execution_count": 101,
   "id": "52091d28-91d5-4ce9-a8c0-4505cf5e9f5a",
   "metadata": {
    "scrolled": true
   },
   "outputs": [
    {
     "name": "stderr",
     "output_type": "stream",
     "text": [
      "[I 2025-04-10 01:29:13,192] Trial 10 finished with value: 0.9230065412260188 and parameters: {'n_estimators': 101, 'max_depth': 12, 'learning_rate': 0.02140916717841715, 'subsample': 0.8546039459304231, 'colsample_bytree': 0.5050942915344728, 'gamma': 1.2117094718725672, 'reg_alpha': 4.668732289239967, 'reg_lambda': 0.28404714587972535, 'scale_pos_weight': 9.938820201965887}. Best is trial 7 with value: 0.9897494076951722.\n",
      "[I 2025-04-10 01:29:41,487] Trial 12 finished with value: 0.9210579802674806 and parameters: {'n_estimators': 116, 'max_depth': 12, 'learning_rate': 0.017822279186385848, 'subsample': 0.8353653003400041, 'colsample_bytree': 0.5080465963683889, 'gamma': 1.3408304563156725, 'reg_alpha': 4.9303732711265855, 'reg_lambda': 0.20530741097648963, 'scale_pos_weight': 9.491459957015937}. Best is trial 7 with value: 0.9897494076951722.\n",
      "[I 2025-04-10 01:29:53,261] Trial 15 finished with value: 0.9116502676350061 and parameters: {'n_estimators': 110, 'max_depth': 12, 'learning_rate': 0.0107847632714074, 'subsample': 0.851560619691311, 'colsample_bytree': 0.784860497222895, 'gamma': 1.369781427990959, 'reg_alpha': 4.817119357839115, 'reg_lambda': 0.02840178815207084, 'scale_pos_weight': 9.823972413390988}. Best is trial 7 with value: 0.9897494076951722.\n",
      "[I 2025-04-10 01:30:39,170] Trial 11 finished with value: 0.9421125795322932 and parameters: {'n_estimators': 123, 'max_depth': 12, 'learning_rate': 0.025888805600868703, 'subsample': 0.8373349696189353, 'colsample_bytree': 0.50884766605905, 'gamma': 1.2847699736747304, 'reg_alpha': 4.646243977794557, 'reg_lambda': 0.5963867705517996, 'scale_pos_weight': 9.895442622466632}. Best is trial 7 with value: 0.9897494076951722.\n",
      "[I 2025-04-10 02:06:17,880] Trial 18 finished with value: 0.9959888175258497 and parameters: {'n_estimators': 971, 'max_depth': 12, 'learning_rate': 0.29886107011621654, 'subsample': 0.851164887920906, 'colsample_bytree': 0.7705684799330512, 'gamma': 0.3355640477961108, 'reg_alpha': 0.07881398968135667, 'reg_lambda': 4.9895643712982505, 'scale_pos_weight': 1.9353236934727658}. Best is trial 18 with value: 0.9959888175258497.\n",
      "[I 2025-04-10 02:11:44,839] Trial 17 finished with value: 0.9889666981299383 and parameters: {'n_estimators': 975, 'max_depth': 12, 'learning_rate': 0.04037019573447108, 'subsample': 0.8381498482198961, 'colsample_bytree': 0.5121205372793076, 'gamma': 1.3343781242495412, 'reg_alpha': 4.580541611956148, 'reg_lambda': 0.5138557333884191, 'scale_pos_weight': 9.134857709079036}. Best is trial 18 with value: 0.9959888175258497.\n",
      "[I 2025-04-10 02:14:20,992] Trial 21 finished with value: 0.9958055328729517 and parameters: {'n_estimators': 993, 'max_depth': 9, 'learning_rate': 0.2975772867225363, 'subsample': 0.677783598826089, 'colsample_bytree': 0.7676528053947782, 'gamma': 0.3707252319705362, 'reg_alpha': 0.02224903794557065, 'reg_lambda': 4.625320127029014, 'scale_pos_weight': 1.3143519606163587}. Best is trial 18 with value: 0.9959888175258497.\n",
      "[I 2025-04-10 02:14:27,408] Trial 19 finished with value: 0.9961226317399013 and parameters: {'n_estimators': 972, 'max_depth': 9, 'learning_rate': 0.29020033858407474, 'subsample': 0.8339585757439528, 'colsample_bytree': 0.7684155823399869, 'gamma': 0.0030605420232845404, 'reg_alpha': 0.3173907431218317, 'reg_lambda': 1.4891688688126512, 'scale_pos_weight': 1.4739666090817205}. Best is trial 19 with value: 0.9961226317399013.\n",
      "[I 2025-04-10 02:15:49,032] Trial 20 finished with value: 0.9935625282334167 and parameters: {'n_estimators': 988, 'max_depth': 9, 'learning_rate': 0.08307138449142985, 'subsample': 0.6599685551928414, 'colsample_bytree': 0.7626234011992978, 'gamma': 0.003405793910211674, 'reg_alpha': 0.010732786809287798, 'reg_lambda': 4.715434613742957, 'scale_pos_weight': 2.0074306585976953}. Best is trial 19 with value: 0.9961226317399013.\n",
      "[I 2025-04-10 02:19:57,055] Trial 16 finished with value: 0.9897195273902323 and parameters: {'n_estimators': 961, 'max_depth': 12, 'learning_rate': 0.0224071924478903, 'subsample': 0.8545751806499191, 'colsample_bytree': 0.7540822144799363, 'gamma': 1.469627614767291, 'reg_alpha': 4.7167267482796955, 'reg_lambda': 0.08021608970467309, 'scale_pos_weight': 9.171855426794963}. Best is trial 19 with value: 0.9961226317399013.\n",
      "[I 2025-04-10 02:20:24,312] Trial 13 finished with value: 0.9875531984287043 and parameters: {'n_estimators': 984, 'max_depth': 12, 'learning_rate': 0.02766955517194991, 'subsample': 0.8723455773014314, 'colsample_bytree': 0.509896190497252, 'gamma': 1.5135105945418164, 'reg_alpha': 4.982264900651475, 'reg_lambda': 0.24601592483196488, 'scale_pos_weight': 9.76595660942804}. Best is trial 19 with value: 0.9961226317399013.\n",
      "[I 2025-04-10 02:23:53,260] Trial 14 finished with value: 0.9810381892230519 and parameters: {'n_estimators': 953, 'max_depth': 12, 'learning_rate': 0.01399042577413151, 'subsample': 0.855822470705474, 'colsample_bytree': 0.5099362045963736, 'gamma': 1.3892453747094624, 'reg_alpha': 4.377406152759089, 'reg_lambda': 0.19081671256631183, 'scale_pos_weight': 9.960214155091066}. Best is trial 19 with value: 0.9961226317399013.\n",
      "[I 2025-04-10 02:33:44,696] Trial 26 finished with value: 0.9912150856106817 and parameters: {'n_estimators': 887, 'max_depth': 10, 'learning_rate': 0.29173252534769917, 'subsample': 0.9154803383178796, 'colsample_bytree': 0.9889003333522652, 'gamma': 2.115829013512643, 'reg_alpha': 1.6716629607688072, 'reg_lambda': 1.8153512262082598, 'scale_pos_weight': 3.7055027629222366}. Best is trial 19 with value: 0.9961226317399013.\n",
      "[I 2025-04-10 02:37:03,858] Trial 23 finished with value: 0.992901610273485 and parameters: {'n_estimators': 990, 'max_depth': 10, 'learning_rate': 0.2959809568065231, 'subsample': 0.671135536996998, 'colsample_bytree': 0.9853256187977102, 'gamma': 2.11075328886657, 'reg_alpha': 0.5131013401438106, 'reg_lambda': 1.6854982861023207, 'scale_pos_weight': 7.653997231290995}. Best is trial 19 with value: 0.9961226317399013.\n",
      "[I 2025-04-10 02:40:56,386] Trial 25 finished with value: 0.9953393472542246 and parameters: {'n_estimators': 896, 'max_depth': 10, 'learning_rate': 0.2981120440871015, 'subsample': 0.9033037971384509, 'colsample_bytree': 0.8144193512670115, 'gamma': 0.4255655279038226, 'reg_alpha': 0.00444122234048816, 'reg_lambda': 1.665087863896073, 'scale_pos_weight': 3.6253461478537123}. Best is trial 19 with value: 0.9961226317399013.\n",
      "[I 2025-04-10 02:41:01,542] Trial 27 finished with value: 0.994679291602087 and parameters: {'n_estimators': 880, 'max_depth': 10, 'learning_rate': 0.2875739083302091, 'subsample': 0.9249049272896688, 'colsample_bytree': 0.9844731925619583, 'gamma': 0.6046070759399672, 'reg_alpha': 0.5025014304861847, 'reg_lambda': 1.8877031306394347, 'scale_pos_weight': 3.3469918877868503}. Best is trial 19 with value: 0.9961226317399013.\n",
      "[I 2025-04-10 02:50:01,027] Trial 22 finished with value: 0.9960267273220861 and parameters: {'n_estimators': 974, 'max_depth': 10, 'learning_rate': 0.2989619563652953, 'subsample': 0.9090253995675175, 'colsample_bytree': 0.9831417243112264, 'gamma': 0.027169679974358762, 'reg_alpha': 0.0807591700776059, 'reg_lambda': 1.6954943825660238, 'scale_pos_weight': 7.751922965385043}. Best is trial 19 with value: 0.9961226317399013.\n",
      "[I 2025-04-10 02:52:09,122] Trial 24 finished with value: 0.996289086540596 and parameters: {'n_estimators': 985, 'max_depth': 10, 'learning_rate': 0.2970259554311404, 'subsample': 0.6657604206914308, 'colsample_bytree': 0.8122167274584089, 'gamma': 0.24516535688830582, 'reg_alpha': 0.15357654157288314, 'reg_lambda': 4.829784565776096, 'scale_pos_weight': 1.1949552937559713}. Best is trial 24 with value: 0.996289086540596.\n",
      "[I 2025-04-10 02:52:34,581] Trial 28 finished with value: 0.996344215650324 and parameters: {'n_estimators': 869, 'max_depth': 10, 'learning_rate': 0.2966982044946126, 'subsample': 0.6661655498553419, 'colsample_bytree': 0.8131808450603879, 'gamma': 0.1155520511205747, 'reg_alpha': 0.10312246339367354, 'reg_lambda': 4.164081229760629, 'scale_pos_weight': 1.190265797099871}. Best is trial 28 with value: 0.996344215650324.\n",
      "[I 2025-04-10 02:53:23,910] Trial 29 finished with value: 0.9964849023760379 and parameters: {'n_estimators': 901, 'max_depth': 10, 'learning_rate': 0.2930013963776803, 'subsample': 0.9162134031258449, 'colsample_bytree': 0.9943256740348546, 'gamma': 0.037678015680783564, 'reg_alpha': 0.12145964278906192, 'reg_lambda': 4.1624943369455725, 'scale_pos_weight': 1.1279082394894795}. Best is trial 29 with value: 0.9964849023760379.\n"
     ]
    }
   ],
   "source": [
    "study.optimize(objective, n_trials=20,n_jobs=-1)"
   ]
  },
  {
   "cell_type": "code",
   "execution_count": 103,
   "id": "af2ab273-16a3-41ed-af4b-7686402edff6",
   "metadata": {},
   "outputs": [
    {
     "data": {
      "text/plain": [
       "FrozenTrial(number=29, state=1, values=[0.9964849023760379], datetime_start=datetime.datetime(2025, 4, 10, 2, 23, 53, 299979), datetime_complete=datetime.datetime(2025, 4, 10, 2, 53, 23, 909918), params={'n_estimators': 901, 'max_depth': 10, 'learning_rate': 0.2930013963776803, 'subsample': 0.9162134031258449, 'colsample_bytree': 0.9943256740348546, 'gamma': 0.037678015680783564, 'reg_alpha': 0.12145964278906192, 'reg_lambda': 4.1624943369455725, 'scale_pos_weight': 1.1279082394894795}, user_attrs={}, system_attrs={}, intermediate_values={}, distributions={'n_estimators': IntDistribution(high=1000, log=False, low=100, step=1), 'max_depth': IntDistribution(high=12, log=False, low=3, step=1), 'learning_rate': FloatDistribution(high=0.3, log=False, low=0.01, step=None), 'subsample': FloatDistribution(high=1.0, log=False, low=0.5, step=None), 'colsample_bytree': FloatDistribution(high=1.0, log=False, low=0.5, step=None), 'gamma': FloatDistribution(high=5.0, log=False, low=0.0, step=None), 'reg_alpha': FloatDistribution(high=5.0, log=False, low=0.0, step=None), 'reg_lambda': FloatDistribution(high=5.0, log=False, low=0.0, step=None), 'scale_pos_weight': FloatDistribution(high=10.0, log=False, low=1.0, step=None)}, trial_id=29, value=None)"
      ]
     },
     "execution_count": 103,
     "metadata": {},
     "output_type": "execute_result"
    }
   ],
   "source": [
    "study.best_trial"
   ]
  },
  {
   "cell_type": "code",
   "execution_count": 105,
   "id": "3b861d85-c5eb-463a-a659-1468f97cfbfe",
   "metadata": {},
   "outputs": [
    {
     "data": {
      "text/plain": [
       "{'n_estimators': 901,\n",
       " 'max_depth': 10,\n",
       " 'learning_rate': 0.2930013963776803,\n",
       " 'subsample': 0.9162134031258449,\n",
       " 'colsample_bytree': 0.9943256740348546,\n",
       " 'gamma': 0.037678015680783564,\n",
       " 'reg_alpha': 0.12145964278906192,\n",
       " 'reg_lambda': 4.1624943369455725,\n",
       " 'scale_pos_weight': 1.1279082394894795}"
      ]
     },
     "execution_count": 105,
     "metadata": {},
     "output_type": "execute_result"
    }
   ],
   "source": [
    "study.best_params"
   ]
  },
  {
   "cell_type": "code",
   "execution_count": 107,
   "id": "2d74d130-ad26-42c8-8dee-b2ef3cec14c0",
   "metadata": {},
   "outputs": [
    {
     "data": {
      "text/plain": [
       "0.9964849023760379"
      ]
     },
     "execution_count": 107,
     "metadata": {},
     "output_type": "execute_result"
    }
   ],
   "source": [
    "study.best_value"
   ]
  },
  {
   "cell_type": "code",
   "execution_count": 109,
   "id": "6425195d-b8c7-45c7-868d-35b7db19b557",
   "metadata": {},
   "outputs": [
    {
     "name": "stderr",
     "output_type": "stream",
     "text": [
      "C:\\Users\\ayush\\anaconda3\\Lib\\site-packages\\xgboost\\training.py:183: UserWarning: [02:57:16] WARNING: C:\\actions-runner\\_work\\xgboost\\xgboost\\src\\learner.cc:738: \n",
      "Parameters: { \"use_label_encoder\" } are not used.\n",
      "\n",
      "  bst.update(dtrain, iteration=i, fobj=obj)\n"
     ]
    },
    {
     "name": "stdout",
     "output_type": "stream",
     "text": [
      "✅ Classification Report:\n",
      "               precision    recall  f1-score   support\n",
      "\n",
      "           0       1.00      0.99      1.00    313615\n",
      "           1       0.53      0.70      0.60      2807\n",
      "\n",
      "    accuracy                           0.99    316422\n",
      "   macro avg       0.76      0.85      0.80    316422\n",
      "weighted avg       0.99      0.99      0.99    316422\n",
      "\n",
      "✅ Confusion Matrix:\n",
      " [[311884   1731]\n",
      " [   851   1956]]\n",
      "✅ Accuracy: 0.9918400111243846\n",
      "✅ F1 Score: 0.6024022174314753\n",
      "✅ ROC-AUC Score: 0.9858493915441092\n"
     ]
    }
   ],
   "source": [
    "from xgboost import XGBClassifier\n",
    "from sklearn.metrics import (\n",
    "    classification_report,\n",
    "    confusion_matrix,\n",
    "    roc_auc_score,\n",
    "    f1_score,\n",
    "    accuracy_score\n",
    ")\n",
    "\n",
    "# Use best parameters from Optuna\n",
    "final_model = XGBClassifier(\n",
    "    n_estimators=901,\n",
    "    max_depth=10,\n",
    "    learning_rate=0.2930013963776803,\n",
    "    subsample=0.9162134031258449,\n",
    "    colsample_bytree=0.9943256740348546,\n",
    "    gamma=0.037678015680783564,\n",
    "    reg_alpha=0.12145964278906192,\n",
    "    reg_lambda=4.1624943369455725,\n",
    "    scale_pos_weight=1.1279082394894795,\n",
    "    use_label_encoder=False,\n",
    "    eval_metric='logloss',\n",
    "    random_state=42,\n",
    "    n_jobs=-1\n",
    ")\n",
    "\n",
    "# Train model on resampled data\n",
    "final_model.fit(X_resampled, y_resampled)\n",
    "\n",
    "# Predict on test data\n",
    "y_pred = final_model.predict(X_test_scaled)\n",
    "y_proba = final_model.predict_proba(X_test_scaled)[:, 1]\n",
    "\n",
    "# Evaluate\n",
    "print(\"✅ Classification Report:\\n\", classification_report(y_test, y_pred))\n",
    "print(\"✅ Confusion Matrix:\\n\", confusion_matrix(y_test, y_pred))\n",
    "print(\"✅ Accuracy:\", accuracy_score(y_test, y_pred))\n",
    "print(\"✅ F1 Score:\", f1_score(y_test, y_pred))\n",
    "print(\"✅ ROC-AUC Score:\", roc_auc_score(y_test, y_proba))\n"
   ]
  },
  {
   "cell_type": "code",
   "execution_count": null,
   "id": "e1bb32da-1896-4589-a06b-cb09d264d1c3",
   "metadata": {},
   "outputs": [],
   "source": []
  },
  {
   "cell_type": "code",
   "execution_count": null,
   "id": "fe6b580e-12a2-4bc0-8a2c-11fb5a8d9cf3",
   "metadata": {},
   "outputs": [],
   "source": []
  },
  {
   "cell_type": "code",
   "execution_count": null,
   "id": "bf8dc1fa-75cd-4f86-bedb-7f5017693e77",
   "metadata": {},
   "outputs": [],
   "source": []
  },
  {
   "cell_type": "code",
   "execution_count": null,
   "id": "2e58dcbd-fcbf-43f1-a423-84eaf6fdde8d",
   "metadata": {},
   "outputs": [],
   "source": []
  },
  {
   "cell_type": "code",
   "execution_count": null,
   "id": "8bc44ece-06df-452f-999a-617200192816",
   "metadata": {},
   "outputs": [],
   "source": []
  },
  {
   "cell_type": "code",
   "execution_count": null,
   "id": "f2f024c3-cef1-42c0-98c0-9b2261e0e3d4",
   "metadata": {},
   "outputs": [],
   "source": [
    "\n",
    "y_resampled.dtypes\n"
   ]
  },
  {
   "cell_type": "code",
   "execution_count": null,
   "id": "2a2472ac-8e85-48d8-a5a1-9b76f2e8f903",
   "metadata": {},
   "outputs": [],
   "source": [
    "\n",
    "y_resampled.dtypes\n"
   ]
  },
  {
   "cell_type": "code",
   "execution_count": null,
   "id": "cd1b707e-f0d0-4120-9299-6db41496ca1e",
   "metadata": {},
   "outputs": [],
   "source": []
  }
 ],
 "metadata": {
  "kernelspec": {
   "display_name": "Python 3 (ipykernel)",
   "language": "python",
   "name": "python3"
  },
  "language_info": {
   "codemirror_mode": {
    "name": "ipython",
    "version": 3
   },
   "file_extension": ".py",
   "mimetype": "text/x-python",
   "name": "python",
   "nbconvert_exporter": "python",
   "pygments_lexer": "ipython3",
   "version": "3.12.4"
  }
 },
 "nbformat": 4,
 "nbformat_minor": 5
}
